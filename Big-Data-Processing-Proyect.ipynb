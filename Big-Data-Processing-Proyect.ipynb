{
 "cells": [
  {
   "cell_type": "code",
   "execution_count": 0,
   "metadata": {
    "application/vnd.databricks.v1+cell": {
     "cellMetadata": {
      "byteLimit": 2048000,
      "rowLimit": 10000
     },
     "inputWidgets": {},
     "nuid": "c376b06e-7d44-4677-a904-c8fb9c2c263d",
     "showTitle": false,
     "title": ""
    }
   },
   "outputs": [],
   "source": [
    "from pyspark.sql.types import FloatType\n",
    "from pyspark.sql.functions import max,count,col,desc,rank\n",
    "from pyspark.sql import Window"
   ]
  },
  {
   "cell_type": "code",
   "execution_count": 0,
   "metadata": {
    "application/vnd.databricks.v1+cell": {
     "cellMetadata": {
      "byteLimit": 2048000,
      "rowLimit": 10000
     },
     "inputWidgets": {},
     "nuid": "04a1d113-1269-4dd9-a50e-32dc02f78de4",
     "showTitle": false,
     "title": ""
    }
   },
   "outputs": [],
   "source": [
    "df_of_2021 = spark.read.option(\"header\", \"true\").csv(\"dbfs:/FileStore/big-data-processing/world_happiness_report_2021.csv\")\n",
    "other_df = spark.read.option(\"header\", \"true\").csv(\"dbfs:/FileStore/big-data-processing/world_happiness_report.csv\")"
   ]
  },
  {
   "cell_type": "code",
   "execution_count": 0,
   "metadata": {
    "application/vnd.databricks.v1+cell": {
     "cellMetadata": {
      "byteLimit": 2048000,
      "rowLimit": 10000
     },
     "inputWidgets": {},
     "nuid": "9bae79e4-4178-4f1e-9452-809a9d25a260",
     "showTitle": false,
     "title": ""
    }
   },
   "outputs": [
    {
     "output_type": "stream",
     "name": "stdout",
     "output_type": "stream",
     "text": [
      "root\n |-- Country name: string (nullable = true)\n |-- Regional indicator: string (nullable = true)\n |-- Ladder score: string (nullable = true)\n |-- Standard error of ladder score: string (nullable = true)\n |-- upperwhisker: string (nullable = true)\n |-- lowerwhisker: string (nullable = true)\n |-- Logged GDP per capita: string (nullable = true)\n |-- Social support: string (nullable = true)\n |-- Healthy life expectancy: string (nullable = true)\n |-- Freedom to make life choices: string (nullable = true)\n |-- Generosity: string (nullable = true)\n |-- Perceptions of corruption: string (nullable = true)\n |-- Ladder score in Dystopia: string (nullable = true)\n |-- Explained by: Log GDP per capita: string (nullable = true)\n |-- Explained by: Social support: string (nullable = true)\n |-- Explained by: Healthy life expectancy: string (nullable = true)\n |-- Explained by: Freedom to make life choices: string (nullable = true)\n |-- Explained by: Generosity: string (nullable = true)\n |-- Explained by: Perceptions of corruption: string (nullable = true)\n |-- Dystopia + residual: string (nullable = true)\n\n"
     ]
    }
   ],
   "source": [
    "df_of_2021.printSchema()"
   ]
  },
  {
   "cell_type": "code",
   "execution_count": 0,
   "metadata": {
    "application/vnd.databricks.v1+cell": {
     "cellMetadata": {
      "byteLimit": 2048000,
      "rowLimit": 10000
     },
     "inputWidgets": {},
     "nuid": "90ccd726-83a8-44bf-aefa-2698c6ba4b30",
     "showTitle": false,
     "title": ""
    }
   },
   "outputs": [
    {
     "output_type": "stream",
     "name": "stdout",
     "output_type": "stream",
     "text": [
      "+------------+------------+\n|Country Name|Ladder Score|\n+------------+------------+\n|     Finland|       7.842|\n+------------+------------+\nonly showing top 1 row\n\n"
     ]
    }
   ],
   "source": [
    "# ¿Cual es el pais mas feliz del 2021 segun la data? Finland\n",
    "\n",
    "df_of_2021.select('Country Name','Ladder Score').show(1)"
   ]
  },
  {
   "cell_type": "code",
   "execution_count": 0,
   "metadata": {
    "application/vnd.databricks.v1+cell": {
     "cellMetadata": {
      "byteLimit": 2048000,
      "implicitDf": true,
      "rowLimit": 10000
     },
     "inputWidgets": {},
     "nuid": "a3ad0e3f-19b9-46d5-8a22-a5270bf28d01",
     "showTitle": false,
     "title": ""
    }
   },
   "outputs": [
    {
     "output_type": "stream",
     "name": "stdout",
     "output_type": "stream",
     "text": [
      "+----------------------------------+------------+------------------------+\n|Regional Indicator                |Ladder Score|Country Name            |\n+----------------------------------+------------+------------------------+\n|Western Europe                    |7.842       |Finland                 |\n|North America and ANZ             |7.277       |New Zealand             |\n|Middle East and North Africa      |7.157       |Israel                  |\n|Latin America and Caribbean       |7.069       |Costa Rica              |\n|Central and Eastern Europe        |6.965       |Czech Republic          |\n|East Asia                         |6.584       |Taiwan Province of China|\n|Southeast Asia                    |6.377       |Singapore               |\n|Commonwealth of Independent States|6.179       |Uzbekistan              |\n|Sub-Saharan Africa                |6.049       |Mauritius               |\n|South Asia                        |5.269       |Nepal                   |\n+----------------------------------+------------+------------------------+\n\n"
     ]
    }
   ],
   "source": [
    "# ¿Cual es el pais mas feliz del 2021 por continente segun la data?\n",
    "\n",
    "df = df_of_2021.withColumn(\"Ladder Score\", df_of_2021['Ladder Score'].cast('float'))\n",
    "\n",
    "max_ladder_score_per_region = df.groupby(['Regional Indicator']).agg(max('Ladder Score').alias('Ladder Score'))\n",
    "max_ladder_score_with_countries = max_ladder_score_per_region.join(df, ['Regional Indicator','Ladder Score'],'inner')\n",
    "max_ladder_score_with_countries.select('Regional Indicator', 'Ladder Score', 'Country Name').show(truncate=False)\n",
    "\n"
   ]
  },
  {
   "cell_type": "code",
   "execution_count": 0,
   "metadata": {
    "application/vnd.databricks.v1+cell": {
     "cellMetadata": {
      "byteLimit": 2048000,
      "rowLimit": 10000
     },
     "inputWidgets": {},
     "nuid": "1078b139-2952-4bb5-b240-2ab50f9f3672",
     "showTitle": false,
     "title": ""
    }
   },
   "outputs": [
    {
     "output_type": "stream",
     "name": "stdout",
     "output_type": "stream",
     "text": [
      "+------------+------------+\n|Country name|Times on Top|\n+------------+------------+\n|     Denmark|           7|\n|     Finland|           6|\n|      Norway|           1|\n| Switzerland|           1|\n|      Canada|           1|\n+------------+------------+\n\n"
     ]
    }
   ],
   "source": [
    "# ¿Cual es el pais que mas veces ocupó el primer lugar en todos los años? Denmark\n",
    "\n",
    "\n",
    "df_other = other_df.withColumn(\"Life Ladder\", other_df['Life Ladder'].cast('float'))\n",
    "max_scores_per_year = df_other.groupby('year').agg(max('Life Ladder').alias('Life Ladder'))\n",
    "max_scores_countries = max_scores_per_year.join(df_other,['year','Life Ladder'], 'inner')\n",
    "times_on_top = max_scores_countries.groupby('Country name').agg(count('Country name').alias('Times on Top'))\n",
    "times_on_top.orderBy(desc('Times on Top')).show()\n"
   ]
  },
  {
   "cell_type": "code",
   "execution_count": 0,
   "metadata": {
    "application/vnd.databricks.v1+cell": {
     "cellMetadata": {
      "byteLimit": 2048000,
      "rowLimit": 10000
     },
     "inputWidgets": {},
     "nuid": "2e8524ed-d67f-4467-a318-084e82eeb2c2",
     "showTitle": false,
     "title": ""
    }
   },
   "outputs": [
    {
     "output_type": "stream",
     "name": "stdout",
     "output_type": "stream",
     "text": [
      "+------------+------------------+----+\n|Country name|Log GDP per capita|rank|\n+------------+------------------+----+\n|     Ireland|            11.323|  13|\n+------------+------------------+----+\n\n"
     ]
    }
   ],
   "source": [
    "# ¿Que puesto de felicidad tiene el pais con mayor GDP del 2020? 13-Ireland\n",
    "\n",
    "countries_2020 = other_df.withColumn(\"Log GDP per capita\", other_df['Log GDP per capita'].cast('float')).filter(other_df.year == 2020)\n",
    "max_country_gdp = countries_2020.select('Country name','Log GDP per capita').orderBy(desc('Log GDP per capita')).limit(1)\n",
    "top = Window.orderBy(desc('Life Ladder'))\n",
    "countries_ranking =  countries_2020.withColumn('rank',rank().over(top)).select('Country name','rank','Log GDP per capita')\n",
    "position = max_country_gdp.join(countries_ranking, ['Country name','Log GDP per capita'], 'inner')\n",
    "position.show()"
   ]
  },
  {
   "cell_type": "code",
   "execution_count": 0,
   "metadata": {
    "application/vnd.databricks.v1+cell": {
     "cellMetadata": {
      "byteLimit": 2048000,
      "rowLimit": 10000
     },
     "inputWidgets": {},
     "nuid": "5a96be92-c99f-488a-8367-987429745615",
     "showTitle": false,
     "title": ""
    }
   },
   "outputs": [
    {
     "output_type": "stream",
     "name": "stdout",
     "output_type": "stream",
     "text": [
      "+------------+--------------------------------+\n|Country name|Healthy life expectancy at birth|\n+------------+--------------------------------+\n|   Singapore|                          77.100|\n+------------+--------------------------------+\nonly showing top 1 row\n\n"
     ]
    }
   ],
   "source": [
    "# ¿Cual es el pais con mayor expectativa de vida y cuanto tenia en ese indicador en el 2019?\n",
    "\n",
    "countries_2019 = other_df.withColumn(\"Log GDP per capita\", other_df['Log GDP per capita'].cast('float')).filter(other_df.year == 2019)\n",
    "countries_2019.select('Country name','Healthy life expectancy at birth').orderBy(desc('Healthy life expectancy at birth')).show(1)"
   ]
  },
  {
   "cell_type": "code",
   "execution_count": 0,
   "metadata": {
    "application/vnd.databricks.v1+cell": {
     "cellMetadata": {
      "byteLimit": 2048000,
      "rowLimit": 10000
     },
     "inputWidgets": {},
     "nuid": "b5a26e45-72b3-4559-a82d-328b8904004a",
     "showTitle": false,
     "title": ""
    }
   },
   "outputs": [
    {
     "output_type": "stream",
     "name": "stdout",
     "output_type": "stream",
     "text": [
      "root\n |-- Country name: string (nullable = true)\n |-- year: string (nullable = true)\n |-- Life Ladder: string (nullable = true)\n |-- Log GDP per capita: string (nullable = true)\n |-- Social support: string (nullable = true)\n |-- Healthy life expectancy at birth: string (nullable = true)\n |-- Freedom to make life choices: string (nullable = true)\n |-- Generosity: string (nullable = true)\n |-- Perceptions of corruption: string (nullable = true)\n |-- Positive affect: string (nullable = true)\n |-- Negative affect: string (nullable = true)\n\n"
     ]
    }
   ],
   "source": [
    "other_df.printSchema()"
   ]
  }
 ],
 "metadata": {
  "application/vnd.databricks.v1+notebook": {
   "dashboards": [],
   "language": "python",
   "notebookMetadata": {
    "mostRecentlyExecutedCommandWithImplicitDF": {
     "commandId": -1,
     "dataframes": [
      "_sqldf"
     ]
    },
    "pythonIndentUnit": 4
   },
   "notebookName": "Big-Data-Processing-Proyect",
   "widgets": {}
  }
 },
 "nbformat": 4,
 "nbformat_minor": 0
}
